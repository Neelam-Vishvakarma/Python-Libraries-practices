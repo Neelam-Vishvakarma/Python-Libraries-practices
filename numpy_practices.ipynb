{
 "cells": [
  {
   "cell_type": "markdown",
   "metadata": {},
   "source": [
    "# Deep Dive into NumPy\n"
   ]
  },
  {
   "cell_type": "markdown",
   "metadata": {},
   "source": [
    "## 1. Introduction & Array Creation\n",
    "\n",
    "Let's start by importing numpy and creating arrays in various ways."
   ]
  },
  {
   "cell_type": "code",
   "execution_count": null,
   "metadata": {},
   "outputs": [],
   "source": [
    "# Import numpy\n",
    "import numpy as np\n",
    "\n",
    "# Create arrays from lists\n",
    "arr1 = np.array([1, 2, 3, 4])\n",
    "print(\"1D array:\", arr1)\n",
    "\n",
    "# Create 2D array\n",
    "arr2 = np.array([[1, 2, 3], [4, 5, 6]])\n",
    "print(\"2D array:\\n\", arr2)\n",
    "\n",
    "# Check array shape and dimensions\n",
    "print(\"Shape of arr2:\", arr2.shape)\n",
    "print(\"Number of dimensions of arr2:\", arr2.ndim)"
   ]
  },
  {
   "cell_type": "markdown",
   "metadata": {},
   "source": [
    "## 2. Common Array Creation Functions\n",
    "\n",
    "- `arange()`, `linspace()`, `zeros()`, `ones()`, `eye()`, `full()`\n",
    "- Learn how to create arrays efficiently"
   ]
  },
  {
   "cell_type": "code",
   "execution_count": null,
   "metadata": {},
   "outputs": [],
   "source": [
    "# arange: like range but returns array\n",
    "arr = np.arange(0, 10, 2)  # start=0, stop=10, step=2\n",
    "print(\"arange:\", arr)\n",
    "\n",
    "# linspace: returns evenly spaced numbers over interval\n",
    "arr_lin = np.linspace(0, 1, 5)  # 5 numbers from 0 to 1\n",
    "print(\"linspace:\", arr_lin)\n",
    "\n",
    "# zeros and ones\n",
    "print(\"Zeros array:\", np.zeros((3, 3)))\n",
    "print(\"Ones array:\", np.ones((2, 4)))\n",
    "\n",
    "# Identity matrix\n",
    "print(\"Identity matrix (3x3):\\n\", np.eye(3))\n",
    "\n",
    "# full: array filled with a specific value\n",
    "print(\"Full array with 7s:\\n\", np.full((2, 2), 7))"
   ]
  },
  {
   "cell_type": "markdown",
   "metadata": {},
   "source": [
    "## 3. Array Data Types and Type Conversion\n",
    "\n",
    "- Check data types\n",
    "- Convert data types\n",
    "- Why dtype matters"
   ]
  },
  {
   "cell_type": "code",
   "execution_count": null,
   "metadata": {},
   "outputs": [],
   "source": [
    "arr = np.array([1, 2, 3])\n",
    "print(\"Original dtype:\", arr.dtype)\n",
    "\n",
    "arr_float = arr.astype(float)  # convert to float\n",
    "print(\"Converted to float:\", arr_float)\n",
    "print(\"New dtype:\", arr_float.dtype)\n",
    "\n",
    "# Create array with specific dtype\n",
    "arr_str = np.array([1, 2, 3], dtype='U')  # Unicode string\n",
    "print(\"Array with string dtype:\", arr_str)"
   ]
  },
  {
   "cell_type": "markdown",
   "metadata": {},
   "source": [
    "## 4. Indexing and Slicing\n",
    "\n",
    "Basic and advanced indexing techniques, slicing, and boolean masking."
   ]
  },
  {
   "cell_type": "code",
   "execution_count": null,
   "metadata": {},
   "outputs": [],
   "source": [
    "arr = np.arange(10)\n",
    "print(\"Array:\", arr)\n",
    "\n",
    "# Slicing\n",
    "print(\"Slice [2:7]:\", arr[2:7])\n",
    "\n",
    "# Negative indices\n",
    "print(\"Last element:\", arr[-1])\n",
    "\n",
    "# Boolean mask: select even numbers\n",
    "mask = arr % 2 == 0\n",
    "print(\"Even numbers:\", arr[mask])\n",
    "\n",
    "# 2D array slicing\n",
    "arr2d = np.array([[1, 2, 3], [4, 5, 6], [7, 8, 9]])\n",
    "print(\"Original 2D array:\\n\", arr2d)\n",
    "print(\"First two rows and last two columns:\\n\", arr2d[:2, 1:])"
   ]
  },
  {
   "cell_type": "markdown",
   "metadata": {},
   "source": [
    "## 5. Array Manipulation\n",
    "\n",
    "- Reshape\n",
    "- Flatten\n",
    "- Transpose\n",
    "- Concatenate and stack"
   ]
  },
  {
   "cell_type": "code",
   "execution_count": null,
   "metadata": {},
   "outputs": [],
   "source": [
    "arr = np.arange(12)\n",
    "print(\"Original array:\", arr)\n",
    "\n",
    "# Reshape to 3x4\n",
    "arr_reshaped = arr.reshape(3, 4)\n",
    "print(\"Reshaped to 3x4:\\n\", arr_reshaped)\n",
    "\n",
    "# Flatten back to 1D\n",
    "arr_flat = arr_reshaped.flatten()\n",
    "print(\"Flattened array:\", arr_flat)\n",
    "\n",
    "# Transpose (swap axes)\n",
    "print(\"Transpose:\\n\", arr_reshaped.T)\n",
    "\n",
    "# Concatenate arrays\n",
    "a = np.array([1, 2, 3])\n",
    "b = np.array([4, 5, 6])\n",
    "concat = np.concatenate([a, b])\n",
    "print(\"Concatenated:\", concat)\n",
    "\n",
    "# Stack vertically and horizontally\n",
    "v_stack = np.vstack([a, b])\n",
    "h_stack = np.hstack([a, b])\n",
    "print(\"Vertical stack:\\n\", v_stack)\n",
    "print(\"Horizontal stack:\", h_stack)"
   ]
  },
  {
   "cell_type": "markdown",
   "metadata": {},
   "source": [
    "## 6. Mathematical Operations\n",
    "\n",
    "- Element-wise ops\n",
    "- Aggregate functions\n",
    "- Broadcasting"
   ]
  },
  {
   "cell_type": "code",
   "execution_count": null,
   "metadata": {},
   "outputs": [],
   "source": [
    "a = np.array([1, 2, 3])\n",
    "b = np.array([4, 5, 6])\n",
    "\n",
    "# Element-wise addition\n",
    "print(\"Add:\", a + b)\n",
    "\n",
    "# Element-wise multiplication\n",
    "print(\"Multiply:\", a * b)\n",
    "\n",
    "# Aggregate functions\n",
    "arr = np.array([[1, 2, 3], [4, 5, 6]])\n",
    "print(\"Sum all:\", arr.sum())\n",
    "print(\"Sum axis=0 (columns):\", arr.sum(axis=0))\n",
    "print(\"Sum axis=1 (rows):\", arr.sum(axis=1))\n",
    "\n",
    "# Broadcasting example\n",
    "arr = np.ones((3, 3))\n",
    "print(\"Original array:\\n\", arr)\n",
    "add_vec = np.array([1, 2, 3])\n",
    "print(\"Add vector to each row:\\n\", arr + add_vec)"
   ]
  },
  {
   "cell_type": "markdown",
   "metadata": {},
   "source": [
    "## 7. Advanced Indexing\n",
    "\n",
    "- Fancy indexing\n",
    "- Using arrays as indices\n",
    "- Setting values"
   ]
  },
  {
   "cell_type": "code",
   "execution_count": null,
   "metadata": {},
   "outputs": [],
   "source": [
    "arr = np.arange(10)\n",
    "\n",
    "# Fancy indexing with list\n",
    "indices = [2, 4, 6]\n",
    "print(\"Selected elements:\", arr[indices])\n",
    "\n",
    "# Boolean indexing\n",
    "print(\"Elements > 5:\", arr[arr > 5])\n",
    "\n",
    "# Setting values via indices\n",
    "arr[indices] = 99\n",
    "print(\"Modified array:\", arr)"
   ]
  },
  {
   "cell_type": "markdown",
   "metadata": {},
   "source": [
    "## 8. Copy vs View\n",
    "\n",
    "- Understand difference between shallow copy and deep copy in NumPy"
   ]
  },
  {
   "cell_type": "code",
   "execution_count": null,
   "metadata": {},
   "outputs": [],
   "source": [
    "arr = np.arange(5)\n",
    "arr_view = arr.view()  # shallow copy (view)\n",
    "arr_copy = arr.copy()  # deep copy\n",
    "\n",
    "arr_view[0] = 100\n",
    "print(\"Original after modifying view:\", arr)  # changed!\n",
    "\n",
    "arr_copy[1] = 200\n",
    "print(\"Original after modifying copy:\", arr)  # no change"
   ]
  },
  {
   "cell_type": "markdown",
   "metadata": {},
   "source": [
    "## 9. Random Number Generation\n",
    "\n",
    "- Generate random numbers using numpy's random module"
   ]
  },
  {
   "cell_type": "code",
   "execution_count": null,
   "metadata": {},
   "outputs": [],
   "source": [
    "np.random.seed(0)  # for reproducibility\n",
    "print(\"Random integers:\", np.random.randint(0, 10, size=5))\n",
    "print(\"Random floats:\", np.random.rand(3))\n",
    "print(\"Random normal:\", np.random.randn(3))"
   ]
  },
  {
   "cell_type": "markdown",
   "metadata": {},
   "source": [
    "## 10. Linear Algebra\n",
    "\n",
    "- Matrix multiplication\n",
    "- Determinant\n",
    "- Eigenvalues"
   ]
  },
  {
   "cell_type": "code",
   "execution_count": null,
   "metadata": {},
   "outputs": [],
   "source": [
    "A = np.array([[1, 2], [3, 4]])\n",
    "B = np.array([[5, 6], [7, 8]])\n",
    "\n",
    "# Matrix multiplication\n",
    "print(\"Matrix product:\\n\", np.dot(A, B))\n",
    "\n",
    "# Determinant\n",
    "print(\"Determinant of A:\", np.linalg.det(A))\n",
    "\n",
    "# Eigenvalues and eigenvectors\n",
    "eigvals, eigvecs = np.linalg.eig(A)\n",
    "print(\"Eigenvalues:\", eigvals)\n",
    "print(\"Eigenvectors:\\n\", eigvecs)"
   ]
  },
  {
   "cell_type": "markdown",
   "metadata": {},
   "source": [
    "## 11. Useful Functions\n",
    "\n",
    "- `np.unique()`\n",
    "- `np.sort()`\n",
    "- `np.where()`\n",
    "- `np.clip()`"
   ]
  },
  {
   "cell_type": "code",
   "execution_count": null,
   "metadata": {},
   "outputs": [],
   "source": [
    "arr = np.array([1, 2, 2, 3, 4, 4, 4])\n",
    "print(\"Unique elements:\", np.unique(arr))\n",
    "\n",
    "arr_unsorted = np.array([3, 1, 2])\n",
    "print(\"Sorted array:\", np.sort(arr_unsorted))\n",
    "\n",
    "# where: indices where condition true\n",
    "print(\"Indices of elements > 2:\", np.where(arr > 2))\n",
    "\n",
    "# clip: limit values\n",
    "arr_clip = np.clip(arr, 2, 3)\n",
    "print(\"Clipped array (2 to 3):\", arr_clip)"
   ]
  },
  {
   "cell_type": "markdown",
   "metadata": {},
   "source": [
    "## 12. Broadcasting Rules Explanation\n",
    "\n",
    "Detailed explanation with examples."
   ]
  },
  {
   "cell_type": "code",
   "execution_count": null,
   "metadata": {},
   "outputs": [],
   "source": [
    "# Broadcasting example 1\n",
    "a = np.array([[1], [2], [3]])  # shape (3,1)\n",
    "b = np.array([10, 20, 30])     # shape (3,)\n",
    "print(\"a shape:\", a.shape)\n",
    "print(\"b shape:\", b.shape)\n",
    "print(\"Broadcasted addition:\\n\", a + b)\n",
    "\n",
    "# Broadcasting example 2\n",
    "a = np.array([1, 2, 3])       # shape (3,)\n",
    "b = 10                       # scalar\n",
    "print(\"Add scalar to array:\", a + b)"
   ]
  },
  {
   "cell_type": "markdown",
   "metadata": {},
   "source": [
    "## 13. Structured Arrays (Advanced)\n",
    "\n",
    "How to create and access structured arrays"
   ]
  },
  {
   "cell_type": "code",
   "execution_count": null,
   "metadata": {},
   "outputs": [],
   "source": [
    "data = np.array([(1, 2.0, 'Hello'), (2, 3.5, 'World')],\n",
    "                dtype=[('id', 'i4'), ('value', 'f4'), ('name', 'U10')])\n",
    "print(\"Structured array:\", data)\n",
    "print(\"IDs:\", data['id'])\n",
    "print(\"Names:\", data['name'])"
   ]
  },
  {
   "cell_type": "markdown",
   "metadata": {},
   "source": [
    "## 14. Saving and Loading Arrays\n",
    "\n",
    "- Use `np.save()`, `np.load()`, and `.npz` files"
   ]
  },
  {
   "cell_type": "code",
   "execution_count": null,
   "metadata": {},
   "outputs": [],
   "source": [
    "arr = np.arange(10)\n",
    "np.save('my_array.npy', arr)\n",
    "loaded_arr = np.load('my_array.npy')\n",
    "print(\"Loaded array:\", loaded_arr)"
   ]
  },
  {
   "cell_type": "markdown",
   "metadata": {},
   "source": [
    "---\n",
    "\n",
    "### Summary:\n",
    "- Started with basic array creation and properties\n",
    "- Explored common creation functions\n",
    "- Covered indexing, slicing, and manipulation\n",
    "- Learned math operations, broadcasting, and advanced indexing\n",
    "- Discussed linear algebra, randoms, and structured arrays\n",
    "- Covered saving/loading arrays\n",
    "\n",
    "This notebook serves as a thorough reference and practice guide for NumPy."
   ]
  }
 ],
 "metadata": {
  "kernelspec": {
   "display_name": "Python 3",
   "language": "python",
   "name": "python3"
  },
  "language_info": {
   "name": "python",
   "version": ""
  }
 },
 "nbformat": 4,
 "nbformat_minor": 5
}
