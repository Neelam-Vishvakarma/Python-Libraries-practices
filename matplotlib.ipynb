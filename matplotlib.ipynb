{
 "cells": [
  {
   "cell_type": "markdown",
   "id": "ab947786",
   "metadata": {},
   "source": [
    "# 🎨 Matplotlib In-Depth Practice Notebook\n",
    "\n",
    "This notebook covers everything a beginner to intermediate learner needs to master `matplotlib`, the fundamental data visualization library in Python."
   ]
  },
  {
   "cell_type": "markdown",
   "id": "21306d76",
   "metadata": {},
   "source": [
    "## 🔹 1. Import Libraries"
   ]
  },
  {
   "cell_type": "code",
   "execution_count": null,
   "id": "01e762e9",
   "metadata": {},
   "outputs": [],
   "source": [
    "import matplotlib.pyplot as plt\n",
    "import numpy as np\n",
    "%matplotlib inline"
   ]
  },
  {
   "cell_type": "markdown",
   "id": "9aacdf39",
   "metadata": {},
   "source": [
    "## 🔹 2. Line Plot"
   ]
  },
  {
   "cell_type": "code",
   "execution_count": null,
   "id": "d5bd97a3",
   "metadata": {},
   "outputs": [],
   "source": [
    "x = np.linspace(0, 10, 100)\n",
    "y = np.sin(x)\n",
    "\n",
    "plt.plot(x, y, label='Sine Wave', color='blue', linestyle='--')\n",
    "plt.title('Line Plot Example')\n",
    "plt.xlabel('X-axis')\n",
    "plt.ylabel('Y-axis')\n",
    "plt.legend()\n",
    "plt.grid(True)\n",
    "plt.show()"
   ]
  },
  {
   "cell_type": "markdown",
   "id": "cd3ba900",
   "metadata": {},
   "source": [
    "## 🔹 3. Scatter Plot"
   ]
  },
  {
   "cell_type": "code",
   "execution_count": null,
   "id": "cf7be449",
   "metadata": {},
   "outputs": [],
   "source": [
    "x = np.random.rand(100)\n",
    "y = np.random.rand(100)\n",
    "colors = np.random.rand(100)\n",
    "sizes = 1000 * np.random.rand(100)\n",
    "\n",
    "plt.scatter(x, y, c=colors, s=sizes, alpha=0.5, cmap='viridis')\n",
    "plt.colorbar()\n",
    "plt.title('Scatter Plot Example')\n",
    "plt.show()"
   ]
  },
  {
   "cell_type": "markdown",
   "id": "aface986",
   "metadata": {},
   "source": [
    "## 🔹 4. Bar Chart"
   ]
  },
  {
   "cell_type": "code",
   "execution_count": null,
   "id": "f7e31e30",
   "metadata": {},
   "outputs": [],
   "source": [
    "categories = ['A', 'B', 'C', 'D']\n",
    "values = [23, 45, 56, 78]\n",
    "\n",
    "plt.bar(categories, values, color='teal')\n",
    "plt.title('Bar Chart Example')\n",
    "plt.xlabel('Category')\n",
    "plt.ylabel('Values')\n",
    "plt.show()"
   ]
  },
  {
   "cell_type": "markdown",
   "id": "d251bd66",
   "metadata": {},
   "source": [
    "## 🔹 5. Histogram"
   ]
  },
  {
   "cell_type": "code",
   "execution_count": null,
   "id": "28a7ae73",
   "metadata": {},
   "outputs": [],
   "source": [
    "data = np.random.randn(1000)\n",
    "\n",
    "plt.hist(data, bins=30, color='orange', edgecolor='black')\n",
    "plt.title('Histogram Example')\n",
    "plt.xlabel('Value')\n",
    "plt.ylabel('Frequency')\n",
    "plt.show()"
   ]
  },
  {
   "cell_type": "markdown",
   "id": "96c54e05",
   "metadata": {},
   "source": [
    "## 🔹 6. Pie Chart"
   ]
  },
  {
   "cell_type": "code",
   "execution_count": null,
   "id": "ef089444",
   "metadata": {},
   "outputs": [],
   "source": [
    "labels = ['Python', 'C++', 'Ruby', 'Java']\n",
    "sizes = [215, 130, 245, 210]\n",
    "explode = (0.1, 0, 0, 0)  # explode 1st slice\n",
    "\n",
    "plt.pie(sizes, explode=explode, labels=labels, autopct='%1.1f%%', shadow=True, startangle=140)\n",
    "plt.axis('equal')  # Equal aspect ratio ensures pie is drawn as a circle.\n",
    "plt.title('Pie Chart Example')\n",
    "plt.show()"
   ]
  },
  {
   "cell_type": "markdown",
   "id": "894a2986",
   "metadata": {},
   "source": [
    "## 🔹 7. Subplots"
   ]
  },
  {
   "cell_type": "code",
   "execution_count": null,
   "id": "5549b0e9",
   "metadata": {},
   "outputs": [],
   "source": [
    "x = np.linspace(0, 2 * np.pi, 100)\n",
    "y1 = np.sin(x)\n",
    "y2 = np.cos(x)\n",
    "\n",
    "fig, axs = plt.subplots(2)\n",
    "axs[0].plot(x, y1, 'r')\n",
    "axs[0].set_title('Sine')\n",
    "axs[1].plot(x, y2, 'b')\n",
    "axs[1].set_title('Cosine')\n",
    "plt.tight_layout()\n",
    "plt.show()"
   ]
  },
  {
   "cell_type": "markdown",
   "id": "0f74362e",
   "metadata": {},
   "source": [
    "## 🔹 8. Customizations: Ticks, Limits, Styles"
   ]
  },
  {
   "cell_type": "code",
   "execution_count": null,
   "id": "01cc3bd3",
   "metadata": {},
   "outputs": [],
   "source": [
    "plt.style.use('ggplot')\n",
    "x = np.linspace(0, 10, 100)\n",
    "y = np.sin(x)\n",
    "\n",
    "plt.plot(x, y)\n",
    "plt.xlim(0, 10)\n",
    "plt.ylim(-1.5, 1.5)\n",
    "plt.xticks(np.arange(0, 11, 1))\n",
    "plt.yticks(np.arange(-1.5, 2, 0.5))\n",
    "plt.title('Customized Plot')\n",
    "plt.show()"
   ]
  },
  {
   "cell_type": "markdown",
   "id": "b2075c34",
   "metadata": {},
   "source": [
    "## 🔹 9. Saving Figures"
   ]
  },
  {
   "cell_type": "code",
   "execution_count": null,
   "id": "296fb67f",
   "metadata": {},
   "outputs": [],
   "source": [
    "x = np.linspace(0, 10, 100)\n",
    "y = np.exp(-x / 3) * np.sin(x)\n",
    "\n",
    "plt.plot(x, y)\n",
    "plt.title('Damped Sine Wave')\n",
    "plt.savefig('damped_sine_wave.png')\n",
    "plt.show()"
   ]
  },
  {
   "cell_type": "markdown",
   "id": "38988589",
   "metadata": {},
   "source": [
    "## ✅ Summary\n",
    "We covered line plots, bar charts, scatter plots, histograms, pie charts, subplots, and customization in `matplotlib`. Practice each one and try combining them in projects!"
   ]
  }
 ],
 "metadata": {},
 "nbformat": 4,
 "nbformat_minor": 5
}
