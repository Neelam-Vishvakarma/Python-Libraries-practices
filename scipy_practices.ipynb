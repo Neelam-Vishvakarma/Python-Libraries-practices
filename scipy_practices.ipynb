{
 "cells": [
  {
   "cell_type": "markdown",
   "id": "8a48aa96",
   "metadata": {},
   "source": [
    "# 📘 In-Depth Scipy Library Practice\n",
    "\n",
    "This notebook covers commonly used and powerful functions in the `scipy` library, useful for scientific and technical computing. Each section includes explanations and example code."
   ]
  },
  {
   "cell_type": "markdown",
   "id": "b5a10440",
   "metadata": {},
   "source": [
    "## 🔹 1. Introduction to SciPy\n",
    "SciPy is built on NumPy and provides additional functionality for optimization, integration, interpolation, eigenvalue problems, algebraic equations, FFT, signal and image processing, ODE solvers, and more."
   ]
  },
  {
   "cell_type": "code",
   "execution_count": null,
   "id": "79618317",
   "metadata": {},
   "outputs": [],
   "source": [
    "import numpy as np\n",
    "import scipy\n",
    "import scipy.linalg as la\n",
    "import scipy.stats as stats\n",
    "import scipy.optimize as opt\n",
    "import scipy.fft as fft\n",
    "import scipy.integrate as integrate\n",
    "import scipy.signal as signal\n",
    "\n",
    "print(\"SciPy version:\", scipy.__version__)"
   ]
  },
  {
   "cell_type": "markdown",
   "id": "97aaf193",
   "metadata": {},
   "source": [
    "## 🔹 2. Linear Algebra with `scipy.linalg`"
   ]
  },
  {
   "cell_type": "code",
   "execution_count": null,
   "id": "54beea8c",
   "metadata": {},
   "outputs": [],
   "source": [
    "# Matrix operations\n",
    "A = np.array([[3, 2], [4, 1]])\n",
    "B = np.array([[1, 0], [0, 1]])\n",
    "\n",
    "# Inverse\n",
    "inv_A = la.inv(A)\n",
    "print(\"Inverse of A:\\n\", inv_A)\n",
    "\n",
    "# Determinant\n",
    "det_A = la.det(A)\n",
    "print(\"Determinant:\", det_A)\n",
    "\n",
    "# Eigenvalues and eigenvectors\n",
    "vals, vecs = la.eig(A)\n",
    "print(\"Eigenvalues:\", vals)\n",
    "print(\"Eigenvectors:\\n\", vecs)"
   ]
  },
  {
   "cell_type": "markdown",
   "id": "58ebc965",
   "metadata": {},
   "source": [
    "## 🔹 3. Optimization with `scipy.optimize`"
   ]
  },
  {
   "cell_type": "code",
   "execution_count": null,
   "id": "ddea8962",
   "metadata": {},
   "outputs": [],
   "source": [
    "# Minimize f(x) = (x - 3)^2\n",
    "f = lambda x: (x - 3)**2\n",
    "res = opt.minimize(f, x0=0)\n",
    "print(\"Minimized value:\", res.fun)\n",
    "print(\"At x =\", res.x)"
   ]
  },
  {
   "cell_type": "markdown",
   "id": "ecbd8ac0",
   "metadata": {},
   "source": [
    "## 🔹 4. Integration with `scipy.integrate`"
   ]
  },
  {
   "cell_type": "code",
   "execution_count": null,
   "id": "a1b77267",
   "metadata": {},
   "outputs": [],
   "source": [
    "# ∫ x^2 dx from 0 to 5\n",
    "f = lambda x: x**2\n",
    "area, err = integrate.quad(f, 0, 5)\n",
    "print(\"Integral result:\", area)"
   ]
  },
  {
   "cell_type": "markdown",
   "id": "52434d14",
   "metadata": {},
   "source": [
    "## 🔹 5. Statistics with `scipy.stats`"
   ]
  },
  {
   "cell_type": "code",
   "execution_count": null,
   "id": "e02e8a72",
   "metadata": {},
   "outputs": [],
   "source": [
    "data = np.random.normal(loc=10, scale=2, size=1000)\n",
    "\n",
    "# Mean, std\n",
    "data_mean = np.mean(data)\n",
    "data_std = np.std(data)\n",
    "print(\"Mean:\", data_mean, \"\\nStd Dev:\", data_std)\n",
    "\n",
    "# T-test\n",
    "t_stat, p_val = stats.ttest_1samp(data, 10)\n",
    "print(\"T-statistic:\", t_stat, \"P-value:\", p_val)"
   ]
  },
  {
   "cell_type": "markdown",
   "id": "041f7cc9",
   "metadata": {},
   "source": [
    "## 🔹 6. Fourier Transform with `scipy.fft`"
   ]
  },
  {
   "cell_type": "code",
   "execution_count": null,
   "id": "006ab713",
   "metadata": {},
   "outputs": [],
   "source": [
    "x = np.linspace(0, 2 * np.pi, 100)\n",
    "y = np.sin(x)\n",
    "\n",
    "y_fft = fft.fft(y)\n",
    "print(\"First 10 FFT values:\\n\", y_fft[:10])"
   ]
  },
  {
   "cell_type": "markdown",
   "id": "3c894d16",
   "metadata": {},
   "source": [
    "## 🔹 7. Signal Processing with `scipy.signal`"
   ]
  },
  {
   "cell_type": "code",
   "execution_count": null,
   "id": "ba6ae042",
   "metadata": {},
   "outputs": [],
   "source": [
    "# Generate noisy signal\n",
    "t = np.linspace(0, 1, 500)\n",
    "sig = np.sin(2 * np.pi * 5 * t) + 0.5 * np.random.randn(500)\n",
    "\n",
    "# Apply Butterworth low-pass filter\n",
    "b, a = signal.butter(4, 0.2)\n",
    "filtered = signal.filtfilt(b, a, sig)\n",
    "\n",
    "import matplotlib.pyplot as plt\n",
    "plt.plot(t, sig, label='Noisy Signal')\n",
    "plt.plot(t, filtered, label='Filtered', linewidth=2)\n",
    "plt.legend()\n",
    "plt.show()"
   ]
  },
  {
   "cell_type": "markdown",
   "id": "c53b6add",
   "metadata": {},
   "source": [
    "## 🔹 8. Sparse Matrices with `scipy.sparse`"
   ]
  },
  {
   "cell_type": "code",
   "execution_count": null,
   "id": "1976fcf8",
   "metadata": {},
   "outputs": [],
   "source": [
    "from scipy import sparse\n",
    "\n",
    "# Create a sparse matrix\n",
    "mat_dense = np.eye(1000)\n",
    "mat_sparse = sparse.csr_matrix(mat_dense)\n",
    "print(mat_sparse)\n",
    "\n",
    "# Convert back to dense\n",
    "print(mat_sparse.toarray()[:5, :5])"
   ]
  },
  {
   "cell_type": "markdown",
   "id": "c4c374b7",
   "metadata": {},
   "source": [
    "## ✅ Summary\n",
    "This notebook demonstrates the power of SciPy through linear algebra, optimization, integration, statistics, FFT, and signal processing. SciPy is essential for scientific Python programming."
   ]
  }
 ],
 "metadata": {},
 "nbformat": 4,
 "nbformat_minor": 5
}
